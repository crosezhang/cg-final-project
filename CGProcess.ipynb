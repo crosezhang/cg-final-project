{
 "cells": [
  {
   "cell_type": "markdown",
   "id": "6a9311b8",
   "metadata": {},
   "source": [
    "## Parsing and Processing Kraken Results\n",
    "\n",
    "### Identify the target species and potential contaminants from the taxonomic classification from Kraken output"
   ]
  },
  {
   "cell_type": "code",
   "execution_count": 9,
   "id": "4da6cd85",
   "metadata": {},
   "outputs": [
    {
     "name": "stdout",
     "output_type": "stream",
     "text": [
      "         %  reads  taxReads  kmers  dup           cov    taxID           rank  \\\n",
      "0   18.180      4         4    848    1  9.880000e-05        0        no rank   \n",
      "1   81.820     18         0     32    1  4.830000e-08        1        no rank   \n",
      "2   81.820     18         0     32    1  4.898000e-08   131567        no rank   \n",
      "3   81.820     18         0     32    1  5.067000e-08        2   superkingdom   \n",
      "4   72.730     16         0     27    1  8.498000e-08     1224         phylum   \n",
      "5   72.730     16         0     27    1  1.766000e-07     1236          class   \n",
      "6   72.730     16         1     27    1  6.425000e-07    91347          order   \n",
      "7   68.180     15        12     26    1  1.248000e-06      543         family   \n",
      "8   13.640      3         0      5    1  2.344000e-06      561          genus   \n",
      "9   13.640      3         3      5    1  2.987000e-06      562        species   \n",
      "10   9.091      2         0      5    1  2.057000e-08  1783272        kingdom   \n",
      "11   9.091      2         0      5    1  4.444000e-08   201174         phylum   \n",
      "12   9.091      2         0      5    1  4.575000e-08     1760          class   \n",
      "13   9.091      2         0      5    1  1.745000e-07    85007          order   \n",
      "14   9.091      2         0      5    1  4.098000e-07     1762         family   \n",
      "15   9.091      2         0      5    1  4.174000e-07     1763          genus   \n",
      "16   9.091      2         2      5    1  1.249000e-05    77643  species group   \n",
      "\n",
      "                               taxName  \n",
      "0                         unclassified  \n",
      "1                                 root  \n",
      "2                   cellular organisms  \n",
      "3                             Bacteria  \n",
      "4                       Proteobacteria  \n",
      "5                  Gammaproteobacteria  \n",
      "6                     Enterobacterales  \n",
      "7                   Enterobacteriaceae  \n",
      "8                          Escherichia  \n",
      "9                     Escherichia coli  \n",
      "10                 Terrabacteria group  \n",
      "11                      Actinobacteria  \n",
      "12                      Actinobacteria  \n",
      "13                   Corynebacteriales  \n",
      "14                    Mycobacteriaceae  \n",
      "15                       Mycobacterium  \n",
      "16  Mycobacterium tuberculosis complex  \n"
     ]
    }
   ],
   "source": [
    "import pandas as pd\n",
    "\n",
    "#kraken output file\n",
    "filename = 'ecol+tb_rishika_kraken.txt'\n",
    "\n",
    "df = pd.read_csv(filename, delimiter='\\t', skiprows=2, header=0)\n",
    "\n",
    "def strip_whitespace(x):\n",
    "    return x.strip() if isinstance(x, str) else x\n",
    "df = df.applymap(strip_whitespace)\n",
    "\n",
    "#pre-processing: filling values of rank\n",
    "df.loc[(df['rank'] == 'no rank') & df['taxName'].str.contains('str'),'rank'] = 'strain'\n",
    "df.loc[(df['rank'] == 'no rank') & df['taxName'].str.contains('group'),'rank'] = 'kingdom'\n",
    "\n",
    "print(df)"
   ]
  },
  {
   "cell_type": "code",
   "execution_count": 10,
   "id": "23fc8f15",
   "metadata": {},
   "outputs": [
    {
     "name": "stdout",
     "output_type": "stream",
     "text": [
      "         %  reads  taxReads  kmers  dup           cov    taxID           rank  \\\n",
      "3   81.820     18         0     32    1  5.067000e-08        2   superkingdom   \n",
      "10   9.091      2         0      5    1  2.057000e-08  1783272        kingdom   \n",
      "4   72.730     16         0     27    1  8.498000e-08     1224         phylum   \n",
      "11   9.091      2         0      5    1  4.444000e-08   201174         phylum   \n",
      "5   72.730     16         0     27    1  1.766000e-07     1236          class   \n",
      "12   9.091      2         0      5    1  4.575000e-08     1760          class   \n",
      "6   72.730     16         1     27    1  6.425000e-07    91347          order   \n",
      "13   9.091      2         0      5    1  1.745000e-07    85007          order   \n",
      "7   68.180     15        12     26    1  1.248000e-06      543         family   \n",
      "14   9.091      2         0      5    1  4.098000e-07     1762         family   \n",
      "8   13.640      3         0      5    1  2.344000e-06      561          genus   \n",
      "15   9.091      2         0      5    1  4.174000e-07     1763          genus   \n",
      "16   9.091      2         2      5    1  1.249000e-05    77643  species group   \n",
      "9   13.640      3         3      5    1  2.987000e-06      562        species   \n",
      "0   18.180      4         4    848    1  9.880000e-05        0        no rank   \n",
      "2   81.820     18         0     32    1  4.898000e-08   131567        no rank   \n",
      "1   81.820     18         0     32    1  4.830000e-08        1        no rank   \n",
      "\n",
      "                               taxName  rank_index  \n",
      "3                             Bacteria           1  \n",
      "10                 Terrabacteria group           2  \n",
      "4                       Proteobacteria           3  \n",
      "11                      Actinobacteria           3  \n",
      "5                  Gammaproteobacteria           4  \n",
      "12                      Actinobacteria           4  \n",
      "6                     Enterobacterales           5  \n",
      "13                   Corynebacteriales           5  \n",
      "7                   Enterobacteriaceae           6  \n",
      "14                    Mycobacteriaceae           6  \n",
      "8                          Escherichia           7  \n",
      "15                       Mycobacterium           7  \n",
      "16  Mycobacterium tuberculosis complex           8  \n",
      "9                     Escherichia coli           9  \n",
      "0                         unclassified          11  \n",
      "2                   cellular organisms          11  \n",
      "1                                 root          11  \n"
     ]
    }
   ],
   "source": [
    "# Sort the DataFrame by rank specificity and coverage\n",
    "rank_order = ['domain','superkingdom', 'kingdom', 'phylum', 'class', 'order', 'family', 'genus', 'species group','species', 'strain', 'no rank']\n",
    "rank_index = {rank: index for index, rank in enumerate(rank_order)}\n",
    "df['rank_index'] = df['rank'].map(rank_index)\n",
    "\n",
    "df_sorted = df.sort_values(by=['rank_index', 'cov'], ascending=[True, False])\n",
    "print(df_sorted)"
   ]
  },
  {
   "cell_type": "code",
   "execution_count": 11,
   "id": "2d06c56a",
   "metadata": {
    "scrolled": true
   },
   "outputs": [
    {
     "name": "stdout",
     "output_type": "stream",
     "text": [
      "       %  reads  taxReads  kmers  dup           cov   taxID     rank  \\\n",
      "0  18.18      4         4    848    1  9.880000e-05       0  no rank   \n",
      "1  81.82     18         0     32    1  4.830000e-08       1  no rank   \n",
      "2  81.82     18         0     32    1  4.898000e-08  131567  no rank   \n",
      "\n",
      "              taxName  rank_index  \n",
      "0        unclassified          11  \n",
      "1                root          11  \n",
      "2  cellular organisms          11  \n",
      "Target species: unclassified (TaxID: 0)\n",
      "Potential contaminant found: root (TaxID: 1)\n",
      "Potential contaminant found: cellular organisms (TaxID: 131567)\n"
     ]
    }
   ],
   "source": [
    "# Filter to the lowest rank index (max score)\n",
    "lowest_rank_index = df['rank_index'].nlargest(3).unique()\n",
    "df_lowest_rank = df[df['rank_index'].isin(lowest_rank_index)]\n",
    "print(df_lowest_rank)\n",
    "\n",
    "# Identify the target species based on the highest coverage\n",
    "target_row = df_lowest_rank.sort_values(by='cov', ascending=False).iloc[0]\n",
    "target_species_name = target_row['taxName']\n",
    "target_species_id = target_row['taxID']\n",
    "print(f\"Target species: {target_species_name} (TaxID: {target_species_id})\")\n",
    "\n",
    "\n",
    "#TO DO: Need to figure out how to identify sequence IDs from Kraken results\n",
    "kraken_contaminants = []\n",
    "# Identify potential contaminants\n",
    "for index, row in df_lowest_rank.iterrows():\n",
    "    if row['taxName'] != target_species_name:\n",
    "        kraken_contaminants.append('taxName')\n",
    "        print(f\"Potential contaminant found: {row['taxName']} (TaxID: {row['taxID']})\")"
   ]
  },
  {
   "cell_type": "markdown",
   "id": "5f77de00",
   "metadata": {},
   "source": [
    "## Exploring Custom built Database-free Approaches\n",
    "\n",
    "### GC content, simple k-mer profiling + clustering"
   ]
  },
  {
   "cell_type": "code",
   "execution_count": 12,
   "id": "38d7d462",
   "metadata": {},
   "outputs": [
    {
     "name": "stdout",
     "output_type": "stream",
     "text": [
      "['seq1', 'seq6', 'seq12', 'seq16']\n"
     ]
    }
   ],
   "source": [
    "def calculate_gc_content(sequence):\n",
    "    gc_count = sum(1 for base in sequence if base in [\"G\", \"C\"])\n",
    "    return gc_count / len(sequence) * 100\n",
    "\n",
    "def parse_fasta(filename):\n",
    "    with open(filename, 'r') as file:\n",
    "        sequences = {}\n",
    "        sequence_ids = []\n",
    "        current_seq = ''\n",
    "        current_id = ''\n",
    "        for line in file:\n",
    "            line = line.strip()\n",
    "            if line.startswith('>'):\n",
    "                if current_id:\n",
    "                    sequences[current_id] = current_seq\n",
    "                    sequence_ids.append(current_id)\n",
    "                current_id = line[1:]\n",
    "                current_seq = ''\n",
    "            else:\n",
    "                current_seq += line\n",
    "        if current_id:\n",
    "            sequences[current_id] = current_seq\n",
    "            sequence_ids.append(current_id)\n",
    "        return sequences, sequence_ids\n",
    "\n",
    "fasta_path = 'ecoli+tb_rishika.fasta'\n",
    "sequences, sequence_ids = parse_fasta(fasta_path)\n",
    "\n",
    "# Calculate GC content for each sequence\n",
    "gc_contents = {seq_id: calculate_gc_content(seq) for seq_id, seq in sequences.items()}\n",
    "\n",
    "# Identify sequences with atypical GC content (e.g., outside typical range)\n",
    "typical_gc_range = (40, 60)  # Adjust range: currently set to prokaryotic range\n",
    "atypical_gc_sequences = [seq_id for seq_id, gc in gc_contents.items() \n",
    "                         if not (typical_gc_range[0] <= gc <= typical_gc_range[1])]\n",
    "\n",
    "print(atypical_gc_sequences)"
   ]
  },
  {
   "cell_type": "code",
   "execution_count": 13,
   "id": "cf007c4c",
   "metadata": {},
   "outputs": [],
   "source": [
    "from collections import Counter\n",
    "import itertools\n",
    "import numpy as np\n",
    "from sklearn.cluster import KMeans\n",
    "import matplotlib.pyplot as plt\n",
    "\n",
    "def generate_all_kmers(k_size):\n",
    "    \"\"\"Generate all possible k-mers for a given size and alphabet.\"\"\"\n",
    "    alphabet = ['A', 'T', 'G', 'C']\n",
    "    return [''.join(kmer) for kmer in itertools.product(alphabet, repeat=k_size)]\n",
    "\n",
    "def generate_kmer_profile(sequence, all_kmers):\n",
    "    \"\"\"Generate a k-mer profile for a given sequence using a fixed set of k-mers.\"\"\"\n",
    "    kmer_counts = {kmer: 0 for kmer in all_kmers}\n",
    "    for i in range(len(sequence) - k_size + 1):\n",
    "        kmer = sequence[i:i + k_size]\n",
    "        if kmer in kmer_counts:\n",
    "            kmer_counts[kmer] += 1\n",
    "    return list(kmer_counts.values())\n",
    "\n",
    "\n",
    "def parse_fasta(filename):\n",
    "    with open(filename, 'r') as file:\n",
    "        sequences = {}\n",
    "        sequence_ids = []\n",
    "        current_seq = ''\n",
    "        current_id = ''\n",
    "        for line in file:\n",
    "            line = line.strip()\n",
    "            if line.startswith('>'):\n",
    "                if current_id:\n",
    "                    sequences[current_id] = current_seq\n",
    "                    sequence_ids.append(current_id)\n",
    "                current_id = line[1:]\n",
    "                current_seq = ''\n",
    "            else:\n",
    "                current_seq += line\n",
    "        if current_id:\n",
    "            sequences[current_id] = current_seq\n",
    "            sequence_ids.append(current_id)\n",
    "        return sequences, sequence_ids\n",
    "\n",
    "def cluster_sequences(kmer_profiles, sequence_ids, k_size, n_clusters=2):\n",
    "    # No need to regenerate kmer_profiles; they are already provided as input\n",
    "    kmeans = KMeans(n_clusters=n_clusters)\n",
    "    labels = kmeans.fit_predict(kmer_profiles)\n",
    "\n",
    "    # Scatter plot of the k-mer profiles colored by cluster label\n",
    "    plt.scatter(np.array(kmer_profiles)[:, 0], np.array(kmer_profiles)[:, 1], c=labels)\n",
    "    plt.xlabel('Dimension 1')\n",
    "    plt.ylabel('Dimension 2')\n",
    "    plt.title('K-mer Profile Clustering')\n",
    "\n",
    "    # Annotate each point with its sequence ID\n",
    "    for i, txt in enumerate(sequence_ids):\n",
    "        plt.annotate(txt, (np.array(kmer_profiles)[i, 0], np.array(kmer_profiles)[i, 1]))\n",
    "\n",
    "    plt.show()\n",
    "\n",
    "    # Map labels to sequence IDs\n",
    "    labeled_sequences = {sequence_id: label for sequence_id, label in zip(sequence_ids, labels)}\n",
    "\n",
    "    # Group sequences by cluster\n",
    "    clusters = {i: [] for i in range(n_clusters)}\n",
    "    for sequence_id, label in labeled_sequences.items():\n",
    "        clusters[label].append(sequence_id)\n",
    "\n",
    "    # Print out the sequences in each cluster\n",
    "    for cluster_id, sequence_ids in clusters.items():\n",
    "        print(f\"Cluster {cluster_id}:\")\n",
    "        for seq_id in sequence_ids:\n",
    "            print(f\" - Sequence ID: {seq_id}\")\n",
    "\n",
    "    return labels, clusters\n"
   ]
  },
  {
   "cell_type": "code",
   "execution_count": 14,
   "id": "8e08439b",
   "metadata": {},
   "outputs": [
    {
     "data": {
      "image/png": "[encoded data removed]",
      "text/plain": [
       "<Figure size 432x288 with 1 Axes>"
      ]
     },
     "metadata": {
      "needs_background": "light"
     },
     "output_type": "display_data"
    },
    {
     "name": "stdout",
     "output_type": "stream",
     "text": [
      "Cluster 0:\n",
      " - Sequence ID: NC_002695.2 Escherichia coli O157:H7 str. Sakai DNA, complete genome\n",
      " - Sequence ID: seq1\n",
      " - Sequence ID: seq2\n",
      " - Sequence ID: seq4\n",
      " - Sequence ID: seq5\n",
      " - Sequence ID: seq6\n",
      " - Sequence ID: seq7\n",
      " - Sequence ID: seq8\n",
      " - Sequence ID: seq9\n",
      " - Sequence ID: seq10\n",
      " - Sequence ID: seq11\n",
      " - Sequence ID: seq12\n",
      " - Sequence ID: seq13\n",
      " - Sequence ID: seq14\n",
      " - Sequence ID: seq15\n",
      " - Sequence ID: seq16\n",
      " - Sequence ID: seq17\n",
      " - Sequence ID: seq18\n",
      " - Sequence ID: seq19\n",
      " - Sequence ID: seq20\n",
      " - Sequence ID: seq21\n",
      "Cluster 1:\n",
      " - Sequence ID: seq3\n"
     ]
    }
   ],
   "source": [
    "\n",
    "sequences, sequence_ids = parse_fasta(fasta_path)\n",
    "# Generate all possible k-mers\n",
    "k_size = 6\n",
    "all_kmers = generate_all_kmers(k_size)\n",
    "\n",
    "# Generate k-mer profiles for all sequences\n",
    "kmer_profiles = [generate_kmer_profile(seq, all_kmers) for seq in sequences.values()]\n",
    "labels = cluster_sequences(kmer_profiles, sequence_ids ,k_size=6)"
   ]
  },
  {
   "cell_type": "markdown",
   "id": "ff947a94",
   "metadata": {},
   "source": [
    "## Parsing and Processing PhylOligo Results\n",
    "\n",
    "### Getting cluster sequences from distance matrix produced by PhylOligo"
   ]
  },
  {
   "cell_type": "code",
   "execution_count": 15,
   "id": "d03ea74b",
   "metadata": {},
   "outputs": [
    {
     "name": "stderr",
     "output_type": "stream",
     "text": [
      "/Users/rishika/Library/Python/3.9/lib/python/site-packages/sklearn/manifold/_t_sne.py:800: FutureWarning: The default initialization in TSNE will change from 'random' to 'pca' in 1.2.\n",
      "  warnings.warn(\n",
      "/Users/rishika/Library/Python/3.9/lib/python/site-packages/sklearn/manifold/_t_sne.py:810: FutureWarning: The default learning rate in TSNE will change from 200.0 to 'auto' in 1.2.\n",
      "  warnings.warn(\n"
     ]
    },
    {
     "data": {
      "image/png": "[encoded data removed]",
      "text/plain": [
       "<Figure size 720x576 with 1 Axes>"
      ]
     },
     "metadata": {
      "needs_background": "light"
     },
     "output_type": "display_data"
    }
   ],
   "source": [
    "import numpy as np\n",
    "from sklearn.manifold import TSNE\n",
    "import matplotlib.pyplot as plt\n",
    "import seaborn as sns\n",
    "from sklearn.cluster import KMeans \n",
    "\n",
    "# Load the distance matrix\n",
    "distance_matrix = np.loadtxt('ecoli+tb_rishika_phyl.txt')\n",
    "\n",
    "# Perform clustering\n",
    "clusterer = KMeans(n_clusters=3)  \n",
    "cluster_labels = clusterer.fit_predict(distance_matrix)\n",
    "\n",
    "# Perform t-SNE for visualization\n",
    "perplexity_value = min(30, len(sequences) - 1)\n",
    "tsne = TSNE(metric='precomputed', random_state=42, perplexity = perplexity_value)\n",
    "embedded = tsne.fit_transform(distance_matrix)\n",
    "\n",
    "# Plot t-SNE results with cluster labels\n",
    "plt.figure(figsize=(10, 8))\n",
    "sns.scatterplot(x=embedded[:, 0], y=embedded[:, 1], hue=cluster_labels, palette='bright')\n",
    "plt.title('t-SNE visualization of clustering')\n",
    "plt.show()"
   ]
  },
  {
   "cell_type": "code",
   "execution_count": 16,
   "id": "c4b61085",
   "metadata": {},
   "outputs": [
    {
     "name": "stdout",
     "output_type": "stream",
     "text": [
      "['NC_002695.2 Escherichia coli O157:H7 str. Sakai DNA, complete genome', 'seq1', 'seq3', 'seq4']\n"
     ]
    }
   ],
   "source": [
    "cluster_counts = Counter(cluster_labels)\n",
    "\n",
    "# Determine the most common cluster (the cluster with the highest count)\n",
    "most_common_cluster = cluster_counts.most_common(1)[0][0]\n",
    "\n",
    "# Identify potential contaminants\n",
    "# These are sequences whose cluster label is not the most common cluster label\n",
    "phyloligo_contaminants = [sequence_ids[i] for i, cluster in enumerate(cluster_labels) if cluster != most_common_cluster]\n",
    "print(phyloligo_contaminants)"
   ]
  },
  {
   "cell_type": "markdown",
   "id": "60a026b6",
   "metadata": {},
   "source": [
    "## Analysis and Confidence from Results of both Algorithms"
   ]
  },
  {
   "cell_type": "code",
   "execution_count": 17,
   "id": "7c25535d",
   "metadata": {},
   "outputs": [
    {
     "name": "stdout",
     "output_type": "stream",
     "text": [
      "{'seq1', 'seq3', 'seq4', 'NC_002695.2 Escherichia coli O157:H7 str. Sakai DNA, complete genome'}\n",
      "set()\n"
     ]
    }
   ],
   "source": [
    "#TO-DO: Logic to combine the results of phyloligo and kraken to determine confidence of contaminants\n",
    "\n",
    "phyloligo_set = set(phyloligo_contaminants)\n",
    "kraken_set = set(kraken_contaminants)\n",
    "\n",
    "print(phyloligo_set)\n",
    "\n",
    "# Get the intersection of the two sets\n",
    "common_contaminants = phyloligo_set.intersection(kraken_set)\n",
    "\n",
    "print(common_contaminants)"
   ]
  },
  {
   "cell_type": "code",
   "execution_count": null,
   "id": "f798f529",
   "metadata": {},
   "outputs": [],
   "source": []
  }
 ],
 "metadata": {
  "kernelspec": {
   "display_name": "Python 3",
   "language": "python",
   "name": "python3"
  },
  "language_info": {
   "codemirror_mode": {
    "name": "ipython",
    "version": 3
   },
   "file_extension": ".py",
   "mimetype": "text/x-python",
   "name": "python",
   "nbconvert_exporter": "python",
   "pygments_lexer": "ipython3",
   "version": "3.9.1"
  }
 },
 "nbformat": 4,
 "nbformat_minor": 5
}
