{
 "cells": [
  {
   "cell_type": "markdown",
   "id": "6a9311b8",
   "metadata": {},
   "source": [
    "## Parsing and Processing Kraken Results\n",
    "\n",
    "### Identify the target species and potential contaminants from the taxonomic classification from Kraken output"
   ]
  },
  {
   "cell_type": "code",
   "execution_count": 80,
   "id": "4da6cd85",
   "metadata": {},
   "outputs": [],
   "source": [
    "import pandas as pd\n",
    "import sys\n",
    "\n",
    "# Read command-line arguments\n",
    "#fasta_file = sys.argv[[1]]\n",
    "#kraken_file = sys.argv[2]\n",
    "#phyloligo_file = sys.argv[3]\n",
    "#output_file = sys.argv[4]\n",
    "\n",
    "def parse_kraken_output(file_path):\n",
    "    sequence_taxid_mapping = {}\n",
    "    table_data = []\n",
    "\n",
    "    with open(file_path, 'r') as file:\n",
    "        for line in file:\n",
    "            if line.startswith(\"C\") or line.startswith(\"U\"):\n",
    "                parts = line.strip().split('\\t')\n",
    "                sequence_id = parts[1]\n",
    "                tax_id = parts[2]\n",
    "                sequence_taxid_mapping[sequence_id] = tax_id\n",
    "            else:\n",
    "                # Assuming this line is part of the table\n",
    "                table_data.append(line.strip().split('\\t'))\n",
    "\n",
    "    # Converting table data to DataFrame\n",
    "    columns = ['%', 'reads', 'taxReads', 'kmers', 'dup', 'cov', 'taxID', 'rank', 'taxName']\n",
    "    df = pd.DataFrame(table_data, columns=columns)\n",
    "    return sequence_taxid_mapping, df\n",
    "\n",
    "#COMMENT OUT\n",
    "kraken_file = 'ecoli+tb_rishika_kraken.txt'\n",
    "#######\n",
    "\n",
    "sequence_taxid_mapping, kraken_df = parse_kraken_output(kraken_file)\n",
    "\n",
    "#pre-processing: filling values of rank\n",
    "df.loc[(kraken_df['rank'] == 'no rank') & kraken_df['taxName'].str.contains('str'),'rank'] = 'strain'\n",
    "df.loc[(kraken_df['rank'] == 'no rank') & kraken_df['taxName'].str.contains('group'),'rank'] = 'kingdom'"
   ]
  },
  {
   "cell_type": "code",
   "execution_count": 81,
   "id": "23fc8f15",
   "metadata": {},
   "outputs": [],
   "source": [
    "# Sort the DataFrame by rank specificity and coverage\n",
    "rank_order = ['domain','superkingdom', 'kingdom', 'phylum', 'class', 'order', 'family', 'genus', 'species group','species', 'strain', 'no rank']\n",
    "rank_index = {rank: index for index, rank in enumerate(rank_order)}\n",
    "df['rank_index'] = df['rank'].map(rank_index)\n",
    "\n",
    "df_sorted = df.sort_values(by=['rank_index', 'cov'], ascending=[True, False])"
   ]
  },
  {
   "cell_type": "code",
   "execution_count": 82,
   "id": "2d06c56a",
   "metadata": {
    "scrolled": true
   },
   "outputs": [
    {
     "name": "stdout",
     "output_type": "stream",
     "text": [
      "Target species: unclassified (TaxID: 0)\n",
      "['NC_002695.2', 'seq3', 'seq14', 'seq21', 'seq11', 'seq12']\n"
     ]
    }
   ],
   "source": [
    "# Filter to the lowest rank index (max score)\n",
    "n = int(len(kraken_df)/3)\n",
    "lowest_rank_index = df['rank_index'].nlargest(n).unique()\n",
    "df_lowest_rank = df[df['rank_index'].isin(lowest_rank_index)]\n",
    "\n",
    "# Identify the target species based on the highest coverage\n",
    "target_row = df_lowest_rank.sort_values(by='cov', ascending=False).iloc[0]\n",
    "target_species_name = target_row['taxName']\n",
    "target_species_id = target_row['taxID']\n",
    "print(f\"Target species: {target_species_name} (TaxID: {target_species_id})\")\n",
    "\n",
    "kraken_contaminants_dict = []\n",
    "kraken_contaminants = []\n",
    "\n",
    "# Iterate through the lowest rank dataframe\n",
    "for index, row in df_lowest_rank.iterrows():\n",
    "    if row['taxName'] != target_species_name:\n",
    "        # For each potential contaminant, find the corresponding sequence IDs\n",
    "        sequence_ids = [seq_id for seq_id, tax_id in sequence_taxid_mapping.items() if str(tax_id) == str(row['taxID'])]\n",
    "        # Append the contaminant details to the list\n",
    "        kraken_contaminants_dict.append({'taxName': row['taxName'], 'taxID': row['taxID'], 'sequence_IDs': sequence_ids})\n",
    "        kraken_contaminants.extend(sequence_ids)\n",
    "        \n",
    "# Output the list of contaminants\n",
    "print(kraken_contaminants)"
   ]
  },
  {
   "cell_type": "markdown",
   "id": "5f77de00",
   "metadata": {},
   "source": [
    "## Exploring Custom built Database-free Approaches\n",
    "\n",
    "### GC content, simple k-mer profiling + clustering"
   ]
  },
  {
   "cell_type": "code",
   "execution_count": 83,
   "id": "38d7d462",
   "metadata": {},
   "outputs": [
    {
     "name": "stdout",
     "output_type": "stream",
     "text": [
      "['seq1', 'seq6', 'seq12', 'seq16']\n"
     ]
    }
   ],
   "source": [
    "def calculate_gc_content(sequence):\n",
    "    gc_count = sum(1 for base in sequence if base in [\"G\", \"C\"])\n",
    "    return gc_count / len(sequence) * 100\n",
    "\n",
    "def parse_fasta(filename):\n",
    "    with open(filename, 'r') as file:\n",
    "        sequences = {}\n",
    "        sequence_ids = []\n",
    "        current_seq = ''\n",
    "        current_id = ''\n",
    "        for line in file:\n",
    "            line = line.strip()\n",
    "            if line.startswith('>'):\n",
    "                if current_id:\n",
    "                    sequences[current_id] = current_seq\n",
    "                    sequence_ids.append(current_id)\n",
    "                current_id = line[1:]\n",
    "                current_seq = ''\n",
    "            else:\n",
    "                current_seq += line\n",
    "        if current_id:\n",
    "            sequences[current_id] = current_seq\n",
    "            sequence_ids.append(current_id)\n",
    "        return sequences, sequence_ids\n",
    "\n",
    "#COMMENT OUT\n",
    "fasta_file = 'ecoli+tb_rishika.fasta'\n",
    "#############\n",
    "\n",
    "sequences, sequence_ids = parse_fasta(fasta_file)\n",
    "\n",
    "gc_contents = {seq_id: calculate_gc_content(seq) for seq_id, seq in sequences.items()}\n",
    "\n",
    "def calculate_deviation(gc_content, typical_range):\n",
    "    if gc_content < typical_range[0]:\n",
    "        return typical_range[0] - gc_content\n",
    "    elif gc_content > typical_range[1]:\n",
    "        return gc_content - typical_range[1]\n",
    "    else:\n",
    "        return 0\n",
    "\n",
    "# Identify sequences with atypical GC content and their deviation\n",
    "typical_gc_range = (40, 60)  # Adjustable range: currently set to e.coli (prokaryotic) range\n",
    "atypical_gc_data = [(seq_id, calculate_deviation(gc, typical_gc_range)) \n",
    "                    for seq_id, gc in gc_contents.items() \n",
    "                    if not (typical_gc_range[0] <= gc <= typical_gc_range[1])]\n",
    "\n",
    "# Sort the sequences in descending order of deviation\n",
    "atypical_gc_data.sort(key=lambda x: x[1], reverse=True)\n",
    "\n",
    "# Extract sorted sequence IDs\n",
    "sorted_atypical_sequences = [data[0] for data in atypical_gc_data]\n",
    "\n",
    "# Output the sorted sequence IDs\n",
    "print(sorted_atypical_sequences)"
   ]
  },
  {
   "cell_type": "code",
   "execution_count": 84,
   "id": "cf007c4c",
   "metadata": {},
   "outputs": [],
   "source": [
    "from collections import Counter\n",
    "import itertools\n",
    "import numpy as np\n",
    "from sklearn.cluster import KMeans\n",
    "import matplotlib.pyplot as plt\n",
    "\n",
    "def generate_all_kmers(k_size):\n",
    "    \"\"\"Generate all possible k-mers for a given size and alphabet.\"\"\"\n",
    "    alphabet = ['A', 'T', 'G', 'C']\n",
    "    return [''.join(kmer) for kmer in itertools.product(alphabet, repeat=k_size)]\n",
    "\n",
    "def generate_kmer_profile(sequence, all_kmers):\n",
    "    \"\"\"Generate a k-mer profile for a given sequence using a fixed set of k-mers.\"\"\"\n",
    "    kmer_counts = {kmer: 0 for kmer in all_kmers}\n",
    "    for i in range(len(sequence) - k_size + 1):\n",
    "        kmer = sequence[i:i + k_size]\n",
    "        if kmer in kmer_counts:\n",
    "            kmer_counts[kmer] += 1\n",
    "    return list(kmer_counts.values())\n",
    "\n",
    "def cluster_sequences(kmer_profiles, sequence_ids, k_size, n_clusters=2):\n",
    "    kmeans = KMeans(n_clusters=n_clusters)\n",
    "    labels = kmeans.fit_predict(kmer_profiles)\n",
    "\n",
    "    # Scatter plot of the k-mer profiles colored by cluster label\n",
    "    plt.scatter(np.array(kmer_profiles)[:, 0], np.array(kmer_profiles)[:, 1])\n",
    "    plt.xlabel('Dimension 1')\n",
    "    plt.ylabel('Dimension 2')\n",
    "    plt.title('K-mer Profile Clustering')\n",
    "\n",
    "    # Annotate each point with its sequence ID\n",
    "    for i, txt in enumerate(sequence_ids):\n",
    "        plt.annotate(txt, (np.array(kmer_profiles)[i, 0], np.array(kmer_profiles)[i, 1]))\n",
    "\n",
    "    plt.show()\n",
    "\n",
    "    # Map labels to sequence IDs\n",
    "    labeled_sequences = {sequence_id: label for sequence_id, label in zip(sequence_ids, labels)}\n",
    "\n",
    "    # Group sequences by cluster\n",
    "    clusters = {i: [] for i in range(n_clusters)}\n",
    "    for sequence_id, label in labeled_sequences.items():\n",
    "        clusters[label].append(sequence_id)\n",
    "\n",
    "    # Print out the sequences in each cluster\n",
    "    for cluster_id, sequence_ids in clusters.items():\n",
    "        print(f\"Cluster {cluster_id}:\")\n",
    "        for seq_id in sequence_ids:\n",
    "            print(f\" - Sequence ID: {seq_id}\")\n",
    "\n",
    "    return labels, clusters\n"
   ]
  },
  {
   "cell_type": "code",
   "execution_count": 85,
   "id": "8e08439b",
   "metadata": {},
   "outputs": [
    {
     "data": {
      "image/png": "[encoded data removed]",
      "text/plain": [
       "<Figure size 432x288 with 1 Axes>"
      ]
     },
     "metadata": {
      "needs_background": "light"
     },
     "output_type": "display_data"
    },
    {
     "name": "stdout",
     "output_type": "stream",
     "text": [
      "Cluster 0:\n",
      " - Sequence ID: NC_002695.2 Escherichia coli O157:H7 str. Sakai DNA, complete genome\n",
      " - Sequence ID: seq21\n",
      "Cluster 1:\n",
      " - Sequence ID: seq1\n",
      " - Sequence ID: seq2\n",
      " - Sequence ID: seq3\n",
      " - Sequence ID: seq4\n",
      " - Sequence ID: seq5\n",
      " - Sequence ID: seq6\n",
      " - Sequence ID: seq7\n",
      " - Sequence ID: seq8\n",
      " - Sequence ID: seq9\n",
      " - Sequence ID: seq10\n",
      " - Sequence ID: seq11\n",
      " - Sequence ID: seq12\n",
      " - Sequence ID: seq13\n",
      " - Sequence ID: seq14\n",
      " - Sequence ID: seq15\n",
      " - Sequence ID: seq16\n",
      " - Sequence ID: seq17\n",
      " - Sequence ID: seq18\n",
      " - Sequence ID: seq19\n",
      " - Sequence ID: seq20\n"
     ]
    }
   ],
   "source": [
    "# Generate all possible k-mers\n",
    "k_size = 6\n",
    "all_kmers = generate_all_kmers(k_size)\n",
    "\n",
    "# Generate k-mer profiles for all sequences\n",
    "kmer_profiles = [generate_kmer_profile(seq, all_kmers) for seq in sequences.values()]\n",
    "labels = cluster_sequences(kmer_profiles, sequence_ids ,k_size=6)"
   ]
  },
  {
   "cell_type": "markdown",
   "id": "ff947a94",
   "metadata": {},
   "source": [
    "## Parsing and Processing PhylOligo Results\n",
    "\n",
    "### Getting cluster sequences from distance matrix produced by PhylOligo"
   ]
  },
  {
   "cell_type": "code",
   "execution_count": 86,
   "id": "d03ea74b",
   "metadata": {},
   "outputs": [
    {
     "name": "stderr",
     "output_type": "stream",
     "text": [
      "/Users/rishika/Library/Python/3.9/lib/python/site-packages/sklearn/manifold/_t_sne.py:800: FutureWarning: The default initialization in TSNE will change from 'random' to 'pca' in 1.2.\n",
      "  warnings.warn(\n",
      "/Users/rishika/Library/Python/3.9/lib/python/site-packages/sklearn/manifold/_t_sne.py:810: FutureWarning: The default learning rate in TSNE will change from 200.0 to 'auto' in 1.2.\n",
      "  warnings.warn(\n"
     ]
    },
    {
     "data": {
      "image/png": "[encoded data removed]",
      "text/plain": [
       "<Figure size 720x576 with 1 Axes>"
      ]
     },
     "metadata": {
      "needs_background": "light"
     },
     "output_type": "display_data"
    }
   ],
   "source": [
    "import numpy as np\n",
    "from sklearn.manifold import TSNE\n",
    "import matplotlib.pyplot as plt\n",
    "import seaborn as sns\n",
    "from sklearn.cluster import KMeans \n",
    "\n",
    "# Load the distance matrix\n",
    "#COMMENT OUT\n",
    "phyloligo_file = 'ecoli+tb_rishika_phyloligo.txt'\n",
    "#########\n",
    "distance_matrix = np.loadtxt(phyloligo_file)\n",
    "\n",
    "# Perform clustering\n",
    "clusterer = KMeans(n_clusters=2)  \n",
    "cluster_labels = clusterer.fit_predict(distance_matrix)\n",
    "\n",
    "# Perform t-SNE for visualization\n",
    "perplexity_value = min(30, len(sequences) - 1)\n",
    "tsne = TSNE(metric='precomputed', random_state=42, perplexity = perplexity_value)\n",
    "embedded = tsne.fit_transform(distance_matrix)\n",
    "\n",
    "# Plot t-SNE results with cluster labels\n",
    "plt.figure(figsize=(10, 8))\n",
    "sns.scatterplot(x=embedded[:, 0], y=embedded[:, 1], hue=cluster_labels, palette='bright')\n",
    "plt.title('t-SNE visualization of clustering')\n",
    "plt.show()"
   ]
  },
  {
   "cell_type": "code",
   "execution_count": 87,
   "id": "c4b61085",
   "metadata": {},
   "outputs": [
    {
     "name": "stdout",
     "output_type": "stream",
     "text": [
      "['NC_002695.2 Escherichia coli O157:H7 str. Sakai DNA, complete genome', 'seq1', 'seq2', 'seq8', 'seq9', 'seq10', 'seq13', 'seq14', 'seq20', 'seq21']\n"
     ]
    }
   ],
   "source": [
    "cluster_counts = Counter(cluster_labels)\n",
    "\n",
    "# Determine the most common cluster (the cluster with the highest count)\n",
    "most_common_cluster = cluster_counts.most_common(1)[0][0]\n",
    "\n",
    "# Identify potential contaminants\n",
    "# These are sequences whose cluster label is not the most common cluster label\n",
    "phyloligo_contaminants = [sequence_ids[i] for i, cluster in enumerate(cluster_labels) if cluster != most_common_cluster]\n",
    "print(phyloligo_contaminants)"
   ]
  },
  {
   "cell_type": "markdown",
   "id": "60a026b6",
   "metadata": {},
   "source": [
    "## Intersection and Analysis from Results of both Algorithms\n",
    "\n",
    "### Identifying the contaminants found from both methods- these are the ones we are highly confident are contaminants."
   ]
  },
  {
   "cell_type": "code",
   "execution_count": 88,
   "id": "7c25535d",
   "metadata": {},
   "outputs": [
    {
     "name": "stdout",
     "output_type": "stream",
     "text": [
      "{'NC_002695.2', 'seq21', 'seq14'}\n"
     ]
    }
   ],
   "source": [
    "import re\n",
    "\n",
    "def fuzzy_match(seq1, seq2):\n",
    "    # Create patterns to match whole words\n",
    "    pattern1 = fr'\\b{seq1}\\b'\n",
    "    pattern2 = fr'\\b{seq2}\\b'\n",
    "    return re.search(pattern1, seq2) or re.search(pattern2, seq1)\n",
    "\n",
    "# Convert the lists to sets for efficient operations\n",
    "phyloligo_set = set(phyloligo_contaminants)\n",
    "kraken_set = set(kraken_contaminants)\n",
    "\n",
    "# Initialize a set to store common contaminants\n",
    "common_contaminants = set()\n",
    "\n",
    "# Iterate through each pair of sequence IDs\n",
    "for p_seq in phyloligo_set:\n",
    "    for k_seq in kraken_set:\n",
    "        if fuzzy_match(p_seq, k_seq):\n",
    "            common_contaminants.add(k_seq)\n",
    "\n",
    "# Output the common contaminants\n",
    "print(common_contaminants)\n"
   ]
  },
  {
   "cell_type": "code",
   "execution_count": 89,
   "id": "c9b7106f",
   "metadata": {},
   "outputs": [
    {
     "name": "stdout",
     "output_type": "stream",
     "text": [
      "PhylOligo contaminant count: 10\n",
      "Kraken contaminant count: 6\n",
      "P(PhylOligo|Kraken): 0.5\n",
      "P(Kraken|PhylOligo): 0.3\n"
     ]
    },
    {
     "data": {
      "image/png": "[encoded data removed]",
      "text/plain": [
       "<Figure size 432x288 with 1 Axes>"
      ]
     },
     "metadata": {
      "needs_background": "light"
     },
     "output_type": "display_data"
    }
   ],
   "source": [
    "#Contaminant Sequence Count Analysis\n",
    "phyloligo_count = len(set(phyloligo_contaminants))\n",
    "kraken_count = len(set(kraken_contaminants))\n",
    "print(f\"PhylOligo contaminant count: {phyloligo_count}\")\n",
    "print(f\"Kraken contaminant count: {kraken_count}\")\n",
    "\n",
    "#Probability Estimation\n",
    "common_count = len(common_contaminants)\n",
    "prob_phyloligo_given_kraken = common_count / kraken_count\n",
    "prob_kraken_given_phyloligo = common_count / phyloligo_count\n",
    "print(f\"P(PhylOligo|Kraken): {prob_phyloligo_given_kraken}\")\n",
    "print(f\"P(Kraken|PhylOligo): {prob_kraken_given_phyloligo}\")\n",
    "\n",
    "#Sequence length analysis\n",
    "phyloligo_lengths = [len(sequences[seq_id]) for seq_id in phyloligo_contaminants if seq_id in sequences]\n",
    "kraken_lengths = [len(sequences[seq_id]) for seq_id in kraken_contaminants if seq_id in sequences]\n",
    "#Visualization\n",
    "import matplotlib.pyplot as plt\n",
    "# Plotting sequence length distributions\n",
    "plt.hist(phyloligo_lengths, alpha=0.5, label='PhylOligo')\n",
    "plt.hist(kraken_lengths, alpha=0.5, label='Kraken')\n",
    "plt.legend()\n",
    "plt.title('Sequence Length Distribution')\n",
    "plt.xlabel('Sequence Length')\n",
    "plt.ylabel('Frequency')\n",
    "plt.show()\n"
   ]
  },
  {
   "cell_type": "code",
   "execution_count": 90,
   "id": "055f38ae",
   "metadata": {},
   "outputs": [
    {
     "name": "stdout",
     "output_type": "stream",
     "text": [
      "Chi-square test p-value: 0.34712792835150585\n"
     ]
    }
   ],
   "source": [
    "#Statistical Significance testing\n",
    "from scipy.stats import chi2_contingency\n",
    "# Create a contingency table\n",
    "contingency_table = [[phyloligo_count, kraken_count], [len(sequences) - phyloligo_count, len(sequences) - kraken_count]]\n",
    "chi2, p, dof, ex = chi2_contingency(contingency_table)\n",
    "print(f\"Chi-square test p-value: {p}\")\n"
   ]
  },
  {
   "cell_type": "code",
   "execution_count": 91,
   "id": "4ff8e9ec",
   "metadata": {},
   "outputs": [
    {
     "name": "stdout",
     "output_type": "stream",
     "text": [
      "Confidence interval for P(PhylOligo|Kraken): (-13.219747891780377, 14.219747891780377)\n",
      "Confidence interval for P(Kraken|PhylOligo): (-27.139495783560758, 27.73949578356076)\n"
     ]
    }
   ],
   "source": [
    "#Confidence Interval Calculation for Probability Estimations\n",
    "import scipy.stats as stats\n",
    "confidence = 0.95\n",
    "phyloligo_interval = stats.norm.interval(confidence, loc=prob_phyloligo_given_kraken, scale=stats.sem(phyloligo_lengths))\n",
    "kraken_interval = stats.norm.interval(confidence, loc=prob_kraken_given_phyloligo, scale=stats.sem(kraken_lengths))\n",
    "print(f\"Confidence interval for P(PhylOligo|Kraken): {phyloligo_interval}\")\n",
    "print(f\"Confidence interval for P(Kraken|PhylOligo): {kraken_interval}\")"
   ]
  },
  {
   "cell_type": "code",
   "execution_count": 92,
   "id": "f798f529",
   "metadata": {},
   "outputs": [],
   "source": [
    "output_file = 'ecoli+tb_rishika_out.txt'\n",
    "\n",
    "with open(output_file, 'w') as f:\n",
    "    f.write(\"Kraken Identified Potential Contaminants:\\n\")\n",
    "    f.writelines([f\"{cont}\\n\" for cont in kraken_contaminants])\n",
    "\n",
    "    f.write(\"\\nPhylOligo Identified Potential Contaminants:\\n\")\n",
    "    f.writelines([f\"{cont}\\n\" for cont in phyloligo_contaminants])\n",
    "\n",
    "    f.write(\"\\nCommon Contaminants (High Confidence):\\n\")\n",
    "    f.writelines([f\"{cont}\\n\" for cont in common_contaminants])\n",
    "\n",
    "    # Additional Analyses\n",
    "    f.write(\"\\nContaminant Sequence Count Analysis:\\n\")\n",
    "    f.write(f\"PhylOligo contaminant count: {phyloligo_count}\\n\")\n",
    "    f.write(f\"Kraken contaminant count: {kraken_count}\\n\")\n",
    "\n",
    "    f.write(\"\\nProbability Estimation:\\n\")\n",
    "    f.write(f\"P(PhylOligo|Kraken): {prob_phyloligo_given_kraken}\\n\")\n",
    "    f.write(f\"P(Kraken|PhylOligo): {prob_kraken_given_phyloligo}\\n\")\n",
    "\n",
    "    f.write(\"\\nChi-Square Test for Statistical Significance:\\n\")\n",
    "    f.write(f\"Chi-square test p-value: {p}\\n\")\n",
    "\n",
    "    f.write(\"\\nConfidence Intervals for Probability Estimations:\\n\")\n",
    "    f.write(f\"Confidence interval for P(PhylOligo|Kraken): {phyloligo_interval}\\n\")\n",
    "    f.write(f\"Confidence interval for P(Kraken|PhylOligo): {kraken_interval}\\n\")\n"
   ]
  },
  {
   "cell_type": "code",
   "execution_count": null,
   "id": "9b815211",
   "metadata": {},
   "outputs": [],
   "source": []
  }
 ],
 "metadata": {
  "kernelspec": {
   "display_name": "Python 3",
   "language": "python",
   "name": "python3"
  },
  "language_info": {
   "codemirror_mode": {
    "name": "ipython",
    "version": 3
   },
   "file_extension": ".py",
   "mimetype": "text/x-python",
   "name": "python",
   "nbconvert_exporter": "python",
   "pygments_lexer": "ipython3",
   "version": "3.9.1"
  }
 },
 "nbformat": 4,
 "nbformat_minor": 5
}
